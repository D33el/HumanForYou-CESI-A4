{
 "cells": [
  {
   "cell_type": "markdown",
   "metadata": {},
   "source": [
    "## **Projet HumanForYou** - Machine Learning - CESI EXIA_ A4\n",
    "\n",
    "<u>**Groupe**</u>\n",
    "- MECHTA Moumen \n",
    "- LANDELOUCI Adel \n",
    "- TOURI Nadir \n",
    "- BOUMAZOUZA Asma \n",
    "- BELKACEM Mehdi \n",
    "\n",
    "-----"
   ]
  }
 ],
 "metadata": {
  "kernelspec": {
   "display_name": "Python 3 (ipykernel)",
   "language": "python",
   "name": "python3"
  },
  "language_info": {
   "codemirror_mode": {
    "name": "ipython",
    "version": 3
   },
   "file_extension": ".py",
   "mimetype": "text/x-python",
   "name": "python",
   "nbconvert_exporter": "python",
   "pygments_lexer": "ipython3",
   "version": "3.11.7"
  }
 },
 "nbformat": 4,
 "nbformat_minor": 4
}
