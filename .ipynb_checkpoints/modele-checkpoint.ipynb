{
 "cells": [
  {
   "cell_type": "markdown",
   "metadata": {},
   "source": [
    "## **Projet HumanForYou** - Machine Learning - CESI EXIA_ A4\n",
    "\n",
    "<u>**Groupe**</u>\n",
    "- MECHTA Moumen \n",
    "- LANDELOUCI Adel \n",
    "- TOURI Nadir \n",
    "- BOUMAZOUZA Asma \n",
    "- BELKACEM Mehdi \n",
    "\n",
    "-----"
   ]
  }
 ],
 "metadata": {
  "kernelspec": {
   "display_name": ".venv",
   "language": "python",
   "name": "python3"
  },
  "language_info": {
   "name": "python",
   "version": "3.13.1"
  }
 },
 "nbformat": 4,
 "nbformat_minor": 2
}
