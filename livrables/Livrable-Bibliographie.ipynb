{
 "cells": [
  {
   "cell_type": "markdown",
   "id": "27970d47-f8f6-4e21-9063-3c441d692e84",
   "metadata": {},
   "source": [
    "# **Livrable - Bibliographie**\n",
    "#### **Projet HumanForYou** - Machine Learning - CESI EXIA_ A4\n",
    "\n",
    "<u>**Groupe**</u>\n",
    "- MECHTA Moumen\n",
    "- LANDELOUCI Adel \n",
    "- TOURI Nadir \n",
    "- BOUMAZOUZA Asma \n",
    "- BELKACEM Mehdi \n",
    "\n",
    "-----"
   ]
  },
  {
   "cell_type": "markdown",
   "id": "7b81377d-e56f-430c-9de2-9586f85e92c7",
   "metadata": {},
   "source": [
    "### 1- **Sources méthodologiques et théoriques**\n",
    "\n",
    "----"
   ]
  },
  {
   "cell_type": "markdown",
   "id": "51a93b0d-355c-4a0f-a904-a08fd20bf421",
   "metadata": {},
   "source": [
    "\n",
    "#### Références d'ouvrages\n",
    "\n",
    "1. **Goodfellow, I., Bengio, Y., & Courville, A. (2016). Deep Learning. MIT Press.**  \n",
    "   Cet ouvrage présente les fondements théoriques des réseaux de neurones profonds, ainsi que leurs applications concrètes dans divers domaines d'intelligence artificielle.  \n",
    "   Il a été utilisé pour comprendre les principes de l'apprentissage profond appliqués aux modèles prédictifs d'attrition.  \n",
    "   [Lien vers l'ouvrage](https://mitpress.ublish.com/ebook/deep-learning-preview/107/9)\n",
    "\n",
    "2. **Frédéric, Université de Lorraine, (2024-2025). Introduction à l’apprentissage automatique.**  \n",
    "   Cet ouvrage présente les concepts fondamentaux de l'apprentissage automatique en abordant les différentes techniques et algorithmes permettant aux machines d'apprendre à partir de données.  \n",
    "   Il propose une introduction claire et pédagogique aux méthodes de classification, de régression, de clustering et de réduction de dimension.  \n",
    "   [Lien vers le cours](https://members.loria.fr/FSur/enseignement/apprauto/poly_apprauto_F####S####ur.pdf)\n",
    "\n",
    "#### Références de rapports et documents techniques\n",
    "\n",
    "3. **IBM Analytics, (2020). Data Science for Data Engineers.**  \n",
    "   Cet ouvrage propose des conseils pratiques en Data Science spécialement conçus pour les ingénieurs des données.  \n",
    "   Il aborde les bonnes pratiques, les méthodologies et les outils indispensables pour mener à bien des projets de traitement et d’analyse de données à grande échelle.  \n",
    "   [Lien vers le document](https://www.ibm.com/downloads/documents/fr-fr/10####a####99803d22fdf89)\n",
    "\n",
    "#### Références de ressources en ligne\n",
    "\n",
    "4. **Dataiku Knowledge.**  \n",
    "   Ces articles constituent une ressource précieuse pour les débutants souhaitant démystifier l'apprentissage automatique.  \n",
    "   Ils permettent d'acquérir des connaissances fondamentales, en vue de préparer ou de compléter des formations plus avancées.  \n",
    "   [Lien vers les articles](https://knowledge.dataiku.com/latest/ml-analytics/ml-concepts/index.html)\n",
    "\n",
    "5. **KD Nuggets (2020). Data Transformation: Standardization vs. Normalization.**  \n",
    "   Cet article publié sur le site KDnuggets explore les concepts de normalisation et de standardisation des données, qui sont des étapes cruciales dans le prétraitement des données pour l'apprentissage automatique.  \n",
    "   [Lien vers l'article](https://www.kdnuggets.com/2020/04/data-transformation-standardization-noralization.html)\n",
    "zation.html\n",
    "\n"
   ]
  },
  {
   "cell_type": "markdown",
   "id": "7db4e249-241b-4e9c-95bf-f1d1b4166b29",
   "metadata": {},
   "source": [
    "### 2- **Sources sur les aspects techniques**\n",
    "\n",
    "----"
   ]
  },
  {
   "cell_type": "markdown",
   "id": "e77c3613-15af-43f7-a2ac-f74b9fdeddb3",
   "metadata": {},
   "source": [
    "\n",
    "\n",
    "1. **Datacamp, Kurtis Pykes, Data Science & AI Blogger**  \n",
    "   Cet article nous apprend l’importation et l’affichage de nos données au format CSV, ainsi que la modification et la personnalisation du résultat en sortie selon notre choix.  \n",
    "   [Lien vers l'article](https://www.datacamp.com/fr/tutorial/pandas-read-csv)\n",
    "\n",
    "2. **Scikit-learn: Machine Learning in Python**  \n",
    "   Ce site présente Scikit-learn comme une bibliothèque open source dédiée à l'apprentissage automatique en Python.  \n",
    "   Il propose de nombreux outils pour la classification, la régression, le clustering et la réduction de dimension, en s'appuyant sur des bibliothèques fondamentales telles que NumPy, SciPy et Matplotlib.  \n",
    "   [Lien vers l'article](https://scikit-learn.org/stable/index.html)\n",
    "\n",
    "3. **Jake VanderPlas; Python Data Science Handbook**  \n",
    "   L'ouvrage aborde en profondeur les bibliothèques Python les plus couramment utilisées pour la manipulation de données, l'analyse, la visualisation et l'apprentissage automatique.  \n",
    "   [Lien vers l'article](https://jakevdp.github.io/PythonDataScienceHandbook/)\n",
    "\n"
   ]
  },
  {
   "cell_type": "markdown",
   "id": "d3e88712-1119-495b-a144-7f4171a7b45d",
   "metadata": {},
   "source": [
    "### 3- **Sources éthiques et sociétales**\n",
    "\n",
    "----"
   ]
  },
  {
   "cell_type": "markdown",
   "id": "b1a7a665-8bf0-42d7-9562-e426af4c308d",
   "metadata": {},
   "source": [
    "1. **Floridi, L. (2019)**  \n",
    "   Cet ouvrage explore les implications éthiques de l'intelligence artificielle et de la robotique. Floridi examine comment les avancées technologiques redéfinissent les notions de responsabilité, d'autonomie et de justice, et propose des cadres éthiques pour guider leur développement.  \n",
    "   [Lien vers l'article](https://doi.org/10.1007/s00146-018-0848-9)  \n",
    "\n",
    "2. **Jobin, A., Ienca, M., & Vayena, E. (2019)**  \n",
    "   Cette étude analyse les lignes directrices en matière d'éthique de l'intelligence artificielle à l'échelle mondiale. Elle met en lumière les principes communs aux différentes initiatives et identifie les divergences entre les approches régionales et sectorielles.  \n",
    "   [Lien vers l'article](https://doi.org/10.1038/s42256-019-0088-2)  \n",
    "\n",
    "3. **Commission Européenne (2020)**  \n",
    "   Ces lignes directrices définissent les principes fondamentaux pour une intelligence artificielle digne de confiance. Elles s’articulent autour de sept exigences clés, telles que la transparence, la robustesse technique et le respect des droits fondamentaux.  \n",
    "   [Lien vers l'article](https://ec.europa.eu/digital-strategy/en/ethics-guidelines-trustworthy-ai)  \n",
    "\n",
    "4. **Binns, R. (2018)**  \n",
    "   L’auteur s’intéresse aux questions de justice et d’équité dans l’apprentissage automatique. Il s’appuie sur la philosophie politique pour examiner comment les algorithmes peuvent reproduire ou atténuer les biais discriminatoires.  \n",
    "   [Lien vers l'article](https://doi.org/10.1145/3287560.3287583)  \n",
    "\n",
    "5. **Shilton, K. (2018)**  \n",
    "   Cet article explore l’intégration des valeurs éthiques dans la conception des interactions homme-machine. Il met en avant l’importance de la collaboration entre chercheurs en informatique et spécialistes des sciences humaines pour développer des technologies respectueuses des utilisateurs.  \n",
    "   [Lien vers l'article](https://doi.org/10.1145/3173574.3173963)  \n",
    "\n",
    "6. **European Union Agency for Fundamental Rights (2022)**  \n",
    "   Ce rapport examine les risques de discrimination liés à l’utilisation d’algorithmes et d’intelligence artificielle. Il propose des recommandations pour minimiser les biais et garantir un usage équitable des technologies automatisées.  \n",
    "   [Lien vers l'article](https://fra.europa.eu/en/publication/2022/bias-algorithms-ai-and-discrimination)  \n",
    "\n",
    "7. **IEEE (2019)**  \n",
    "   \"Ethically Aligned Design\" est un guide développé par l'IEEE pour promouvoir des pratiques de conception éthiques en intelligence artificielle. Il met l’accent sur la transparence, la responsabilité et l’impact social des technologies autonomes.  \n",
    "   [Lien vers l'article](https://standards.ieee.org/industry-connections/ec/autonomous-systems.html)  "
   ]
  }
 ],
 "metadata": {
  "kernelspec": {
   "display_name": "Python 3 (ipykernel)",
   "language": "python",
   "name": "python3"
  },
  "language_info": {
   "codemirror_mode": {
    "name": "ipython",
    "version": 3
   },
   "file_extension": ".py",
   "mimetype": "text/x-python",
   "name": "python",
   "nbconvert_exporter": "python",
   "pygments_lexer": "ipython3",
   "version": "3.11.7"
  }
 },
 "nbformat": 4,
 "nbformat_minor": 5
}
